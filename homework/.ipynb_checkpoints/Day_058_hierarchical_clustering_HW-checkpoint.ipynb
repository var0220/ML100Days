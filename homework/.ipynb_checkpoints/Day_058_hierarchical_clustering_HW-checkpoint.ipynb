{
 "cells": [
  {
   "cell_type": "markdown",
   "metadata": {},
   "source": [
    "# Hierarchical clustering with 2D toy datasets"
   ]
  },
  {
   "cell_type": "markdown",
   "metadata": {},
   "source": [
    "# [作業目標]\n",
    "- 將階層式聚類套用在 2D 樣板資料上, 來觀察幾種不同參數的結果有何不同"
   ]
  },
  {
   "cell_type": "markdown",
   "metadata": {},
   "source": [
    "# [作業重點]\n",
    "- 以幾種 2D 樣板資料, 觀察階層式聚類在 \"linkage參數\" 有所不同時, 分群的效果如何變化 (In[4], Out[4])# [作業重點]\n",
    "- 以幾種 2D 樣板資料, 觀察階層式聚類在 \"linkage參數\" 有所不同時, 分群的效果如何變化 (In[4], Out[4])"
   ]
  },
  {
   "cell_type": "code",
   "execution_count": 1,
   "metadata": {
    "collapsed": true
   },
   "outputs": [],
   "source": [
    "# 載入套件\n",
    "import time\n",
    "import warnings\n",
    "\n",
    "import numpy as np\n",
    "import matplotlib.pyplot as plt\n",
    "\n",
    "from sklearn import cluster, datasets\n",
    "from sklearn.preprocessing import StandardScaler\n",
    "from itertools import cycle, islice"
   ]
  },
  {
   "cell_type": "code",
   "execution_count": 2,
   "metadata": {
    "collapsed": true
   },
   "outputs": [],
   "source": [
    "# 設定 2D 樣板資料\n",
    "n_samples = 1500\n",
    "random_state = 100\n",
    "\n",
    "# 生成 雙半月 資料點\n",
    "noisy_moons = datasets.make_moons(n_samples=n_samples, noise=.05)\n",
    "\n",
    "# 生成 緊密三群 資料點\n",
    "blobs = datasets.make_blobs(n_samples=n_samples, random_state=8)\n",
    "\n",
    "# 生成 2維均勻分布 資料點\n",
    "no_structure = np.random.rand(n_samples, 2), None"
   ]
  },
  {
   "cell_type": "code",
   "execution_count": 3,
   "metadata": {
    "collapsed": true
   },
   "outputs": [],
   "source": [
    "# 設定群集與繪圖參數\n",
    "plt.figure(figsize=(10, 8))\n",
    "plot_num = 1\n",
    "default_base = {'n_neighbors': 10, 'n_clusters': 3}\n",
    "datasets = [(noisy_moons, {'n_clusters': 2}), (blobs, {}), (no_structure, {})]"
   ]
  },
  {
   "cell_type": "markdown",
   "metadata": {
    "collapsed": true
   },
   "source": [
    "# 作業\n",
    "* 試著完成剩下三種 2D 樣板資料的繪圖, 並觀察有何不同"
   ]
  },
  {
   "cell_type": "code",
   "execution_count": null,
   "metadata": {
    "collapsed": true
   },
   "outputs": [],
   "source": [
    "# 執行各種樣板資料的繪圖迴圈\n",
    "for i_dataset, (dataset, algo_params) in enumerate(datasets):\n",
    "    # 複製參數與標準化\n",
    "    params = default_base.copy()\n",
    "    params.update(algo_params)    \n",
    "    X, y = dataset\n",
    "    X = StandardScaler().fit_transform(X)\n",
    "\n",
    "    # 設定三種不同參數的 Hierarchical clustering\n",
    "    ward = cluster.AgglomerativeClustering(n_clusters=params['n_clusters'], linkage=\"ward\")\n",
    "    complete = cluster.AgglomerativeClustering(n_clusters=params['n_clusters'], linkage=\"complete\")\n",
    "    average = cluster.AgglomerativeClustering(n_clusters=params['n_clusters'], linkage=\"average\")\n",
    "    clustering_algorithms = (\n",
    "        ('Average Linkage', average),\n",
    "        ('Complete Linkage', complete),\n",
    "        ('Ward Linkage', ward))\n",
    "\n",
    "    # 繪製三種圖形\n",
    "    for name, algorithm in clustering_algorithms:\n",
    "        # t0 / t1 : 紀錄時間差\n",
    "        t0 = time.time()\n",
    "        algorithm.fit(X)\n",
    "        t1 = time.time()\n",
    "        if hasattr(algorithm, 'labels_'):\n",
    "            y_pred = algorithm.labels_.astype(np.int)\n",
    "        else:\n",
    "            y_pred = algorithm.predict(X)\n",
    "\n",
    "        plt.subplot(len(datasets), len(clustering_algorithms), plot_num)\n",
    "        if i_dataset == 0:\n",
    "            plt.title(name, size=18)\n",
    "\n",
    "        colors = np.array(list(islice(cycle(['#377eb8', '#ff7f00', '#4daf4a',\n",
    "                                             '#f781bf', '#a65628', '#984ea3',\n",
    "                                             '#999999', '#e41a1c', '#dede00']),\n",
    "                                      int(max(y_pred) + 1))))\n",
    "        plt.scatter(X[:, 0], X[:, 1], s=10, color=colors[y_pred])\n",
    "\n",
    "        plt.xlim(-2.5, 2.5)\n",
    "        plt.ylim(-2.5, 2.5)\n",
    "        plt.xticks(())\n",
    "        plt.yticks(())\n",
    "        plt.text(.99, .01, ('%.2fs' % (t1 - t0)).lstrip('0'), transform=plt.gca().transAxes, size=15,\n",
    "                 horizontalalignment='right')\n",
    "        plot_num += 1\n",
    "plt.show()"
   ]
  }
 ],
 "metadata": {
  "kernelspec": {
   "display_name": "Python 3",
   "language": "python",
   "name": "python3"
  },
  "language_info": {
   "codemirror_mode": {
    "name": "ipython",
    "version": 3
   },
   "file_extension": ".py",
   "mimetype": "text/x-python",
   "name": "python",
   "nbconvert_exporter": "python",
   "pygments_lexer": "ipython3",
   "version": "3.7.3"
  }
 },
 "nbformat": 4,
 "nbformat_minor": 1
}
