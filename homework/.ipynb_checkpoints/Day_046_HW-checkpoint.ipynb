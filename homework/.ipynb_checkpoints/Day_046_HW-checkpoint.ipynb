{
 "cells": [
  {
   "cell_type": "markdown",
   "metadata": {},
   "source": [
    "### 作業\n",
    "目前已經學過許多的模型，相信大家對整體流程應該比較掌握了，這次作業請改用**手寫辨識資料集**，步驟流程都是一樣的，請試著自己撰寫程式碼來完成所有步驟"
   ]
  },
  {
   "cell_type": "code",
   "execution_count": 1,
   "metadata": {},
   "outputs": [],
   "source": [
    "from sklearn import datasets, metrics\n",
    "from sklearn.ensemble import GradientBoostingClassifier, RandomForestClassifier\n",
    "from sklearn.model_selection import train_test_split"
   ]
  },
  {
   "cell_type": "code",
   "execution_count": 3,
   "metadata": {},
   "outputs": [],
   "source": [
    "digits = datasets.load_digits()\n",
    "x_train, x_test, y_train, y_test = train_test_split(digits.data, digits.target, test_size=0.25, random_state=4)"
   ]
  },
  {
   "cell_type": "code",
   "execution_count": 4,
   "metadata": {},
   "outputs": [
    {
     "name": "stdout",
     "output_type": "stream",
     "text": [
      "Acuuracy:  0.9666666666666667\n"
     ]
    }
   ],
   "source": [
    "clf = GradientBoostingClassifier()\n",
    "clf.fit(x_train, y_train)\n",
    "y_pred = clf.predict(x_test)\n",
    "acc = metrics.accuracy_score(y_test, y_pred)\n",
    "print(\"Acuuracy: \", acc)"
   ]
  },
  {
   "cell_type": "code",
   "execution_count": 5,
   "metadata": {},
   "outputs": [
    {
     "name": "stdout",
     "output_type": "stream",
     "text": [
      "Acuuracy:  0.9555555555555556\n"
     ]
    },
    {
     "name": "stderr",
     "output_type": "stream",
     "text": [
      "C:\\Users\\Roy\\Anaconda3\\lib\\site-packages\\sklearn\\ensemble\\forest.py:246: FutureWarning: The default value of n_estimators will change from 10 in version 0.20 to 100 in 0.22.\n",
      "  \"10 in version 0.20 to 100 in 0.22.\", FutureWarning)\n"
     ]
    }
   ],
   "source": [
    "clf1 = RandomForestClassifier()\n",
    "clf1.fit(x_train, y_train)\n",
    "y_pred_clf1 = clf1.predict(x_test)\n",
    "acc_clf1 = metrics.accuracy_score(y_test, y_pred_clf1)\n",
    "print(\"Acuuracy: \", acc_clf1)"
   ]
  },
  {
   "cell_type": "code",
   "execution_count": 6,
   "metadata": {},
   "outputs": [
    {
     "name": "stdout",
     "output_type": "stream",
     "text": [
      "Feature importance:  [0.00000000e+00 1.50630755e-03 7.74923796e-03 6.69309175e-03\n",
      " 2.22106999e-03 5.29185111e-02 1.01026850e-02 3.86755635e-05\n",
      " 0.00000000e+00 1.69326574e-03 1.10843627e-02 5.57993099e-04\n",
      " 5.83763857e-03 1.38896380e-02 2.17156692e-03 5.99347527e-04\n",
      " 1.64885047e-04 2.76657051e-03 1.11602276e-02 3.42523516e-02\n",
      " 2.47858711e-02 9.04480397e-02 6.44372634e-03 3.16766872e-08\n",
      " 4.19912693e-04 2.00705783e-03 4.79983508e-02 1.97657405e-02\n",
      " 3.64235290e-02 2.32173147e-02 9.11126099e-03 4.90579401e-04\n",
      " 0.00000000e+00 6.13250463e-02 3.98904248e-03 9.86831490e-04\n",
      " 7.03774330e-02 1.25563947e-02 2.18207788e-02 0.00000000e+00\n",
      " 0.00000000e+00 9.38367208e-03 8.79462183e-02 6.38568421e-02\n",
      " 1.21913827e-02 1.79150764e-02 1.51273149e-02 4.51495032e-04\n",
      " 0.00000000e+00 9.81038332e-04 7.42618289e-03 2.11861381e-02\n",
      " 1.09186351e-02 1.50603358e-02 2.21359434e-02 1.44069402e-04\n",
      " 0.00000000e+00 3.74582315e-04 2.95097357e-02 2.22239340e-03\n",
      " 5.01781835e-02 7.59467328e-03 1.87989448e-02 9.02277467e-03]\n",
      "Feature importance:  [0.         0.0031253  0.02396175 0.01242854 0.01025729 0.02147335\n",
      " 0.01311877 0.00043248 0.         0.01403407 0.03413324 0.00624341\n",
      " 0.01336731 0.01449114 0.00442604 0.00064155 0.         0.00988958\n",
      " 0.01648415 0.02938884 0.02161694 0.04458109 0.0086163  0.00051792\n",
      " 0.         0.01372437 0.05234574 0.02728457 0.03448055 0.03400428\n",
      " 0.03202471 0.         0.         0.03674585 0.02290701 0.02524235\n",
      " 0.02948722 0.01081258 0.01423419 0.         0.         0.01355712\n",
      " 0.03787286 0.04523804 0.02017495 0.02788454 0.02633587 0.\n",
      " 0.         0.00243271 0.02229665 0.02289158 0.01329643 0.01148251\n",
      " 0.02488401 0.00250027 0.         0.00064769 0.01464961 0.00680894\n",
      " 0.02482368 0.02541162 0.01253332 0.0077551 ]\n"
     ]
    }
   ],
   "source": [
    "print(\"Feature importance: \", clf.feature_importances_)\n",
    "print(\"Feature importance: \", clf1.feature_importances_)"
   ]
  },
  {
   "cell_type": "code",
   "execution_count": null,
   "metadata": {},
   "outputs": [],
   "source": []
  }
 ],
 "metadata": {
  "kernelspec": {
   "display_name": "Python 3",
   "language": "python",
   "name": "python3"
  },
  "language_info": {
   "codemirror_mode": {
    "name": "ipython",
    "version": 3
   },
   "file_extension": ".py",
   "mimetype": "text/x-python",
   "name": "python",
   "nbconvert_exporter": "python",
   "pygments_lexer": "ipython3",
   "version": "3.7.3"
  }
 },
 "nbformat": 4,
 "nbformat_minor": 2
}
